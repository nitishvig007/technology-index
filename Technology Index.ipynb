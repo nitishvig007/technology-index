{
 "cells": [
  {
   "cell_type": "markdown",
   "metadata": {},
   "source": [
    "# Technology Index"
   ]
  },
  {
   "cell_type": "code",
   "execution_count": 1,
   "metadata": {},
   "outputs": [],
   "source": [
    "import numpy as np\n",
    "import pandas as pd\n",
    "import seaborn as sns\n",
    "import matplotlib.pyplot as plt\n",
    "%matplotlib inline"
   ]
  },
  {
   "cell_type": "code",
   "execution_count": 49,
   "metadata": {
    "scrolled": true
   },
   "outputs": [
    {
     "name": "stdout",
     "output_type": "stream",
     "text": [
      "(72, 16)\n"
     ]
    },
    {
     "data": {
      "text/html": [
       "<div>\n",
       "<style scoped>\n",
       "    .dataframe tbody tr th:only-of-type {\n",
       "        vertical-align: middle;\n",
       "    }\n",
       "\n",
       "    .dataframe tbody tr th {\n",
       "        vertical-align: top;\n",
       "    }\n",
       "\n",
       "    .dataframe thead th {\n",
       "        text-align: right;\n",
       "    }\n",
       "</style>\n",
       "<table border=\"1\" class=\"dataframe\">\n",
       "  <thead>\n",
       "    <tr style=\"text-align: right;\">\n",
       "      <th></th>\n",
       "      <th>Rank</th>\n",
       "      <th>Country</th>\n",
       "      <th>iPhone</th>\n",
       "      <th>Android</th>\n",
       "      <th>MacBook</th>\n",
       "      <th>Windows Powered</th>\n",
       "      <th>PS4</th>\n",
       "      <th>Xbox one</th>\n",
       "      <th>iPad mini</th>\n",
       "      <th>Samsung tablet</th>\n",
       "      <th>40 inch smart TV</th>\n",
       "      <th>Apple Watch</th>\n",
       "      <th>Brand headphone</th>\n",
       "      <th>hard drive 2TB</th>\n",
       "      <th>Portable charger</th>\n",
       "      <th>Printer</th>\n",
       "    </tr>\n",
       "  </thead>\n",
       "  <tbody>\n",
       "    <tr>\n",
       "      <th>0</th>\n",
       "      <td>1</td>\n",
       "      <td>Kuwait</td>\n",
       "      <td>$641.50</td>\n",
       "      <td>$539.18</td>\n",
       "      <td>$795.38</td>\n",
       "      <td>$528.34</td>\n",
       "      <td>$315.83</td>\n",
       "      <td>$418.50</td>\n",
       "      <td>$242.90</td>\n",
       "      <td>$250.98</td>\n",
       "      <td>$383.60</td>\n",
       "      <td>$242.90</td>\n",
       "      <td>$196.95</td>\n",
       "      <td>$89.03</td>\n",
       "      <td>$2.44</td>\n",
       "      <td>$52.36</td>\n",
       "    </tr>\n",
       "    <tr>\n",
       "      <th>1</th>\n",
       "      <td>2</td>\n",
       "      <td>Saudi Arabia</td>\n",
       "      <td>$513.86</td>\n",
       "      <td>$699.61</td>\n",
       "      <td>$1,054.98</td>\n",
       "      <td>$686.88</td>\n",
       "      <td>$317.86</td>\n",
       "      <td>$254.24</td>\n",
       "      <td>$380.47</td>\n",
       "      <td>$152.44</td>\n",
       "      <td>$406.93</td>\n",
       "      <td>$381.48</td>\n",
       "      <td>$338.22</td>\n",
       "      <td>$114.27</td>\n",
       "      <td>$4.83</td>\n",
       "      <td>$30.03</td>\n",
       "    </tr>\n",
       "    <tr>\n",
       "      <th>2</th>\n",
       "      <td>3</td>\n",
       "      <td>Malaysia</td>\n",
       "      <td>$532.06</td>\n",
       "      <td>$631.66</td>\n",
       "      <td>$1,010.31</td>\n",
       "      <td>$1,022.67</td>\n",
       "      <td>$299.83</td>\n",
       "      <td>$355.47</td>\n",
       "      <td>$232.87</td>\n",
       "      <td>$354.99</td>\n",
       "      <td>$324.87</td>\n",
       "      <td>$248.43</td>\n",
       "      <td>$175.48</td>\n",
       "      <td>$116.16</td>\n",
       "      <td>$11.41</td>\n",
       "      <td>$108.69</td>\n",
       "    </tr>\n",
       "    <tr>\n",
       "      <th>3</th>\n",
       "      <td>4</td>\n",
       "      <td>Canada</td>\n",
       "      <td>$555.25</td>\n",
       "      <td>$625.04</td>\n",
       "      <td>$1,118.10</td>\n",
       "      <td>$1,081.40</td>\n",
       "      <td>$274.25</td>\n",
       "      <td>$233.14</td>\n",
       "      <td>$237.34</td>\n",
       "      <td>$392.89</td>\n",
       "      <td>$364.30</td>\n",
       "      <td>$259.21</td>\n",
       "      <td>$159.71</td>\n",
       "      <td>$87.12</td>\n",
       "      <td>$9.24</td>\n",
       "      <td>$57.13</td>\n",
       "    </tr>\n",
       "    <tr>\n",
       "      <th>4</th>\n",
       "      <td>5</td>\n",
       "      <td>United Arab Emirates</td>\n",
       "      <td>$498.25</td>\n",
       "      <td>$592.31</td>\n",
       "      <td>$1,073.30</td>\n",
       "      <td>$1,026.68</td>\n",
       "      <td>$324.72</td>\n",
       "      <td>$285.72</td>\n",
       "      <td>$259.71</td>\n",
       "      <td>$311.71</td>\n",
       "      <td>$467.68</td>\n",
       "      <td>$285.71</td>\n",
       "      <td>$181.73</td>\n",
       "      <td>$84.49</td>\n",
       "      <td>$10.13</td>\n",
       "      <td>$95.93</td>\n",
       "    </tr>\n",
       "  </tbody>\n",
       "</table>\n",
       "</div>"
      ],
      "text/plain": [
       "   Rank               Country   iPhone  Android    MacBook Windows Powered  \\\n",
       "0     1                Kuwait  $641.50  $539.18    $795.38         $528.34   \n",
       "1     2          Saudi Arabia  $513.86  $699.61  $1,054.98         $686.88   \n",
       "2     3              Malaysia  $532.06  $631.66  $1,010.31       $1,022.67   \n",
       "3     4                Canada  $555.25  $625.04  $1,118.10       $1,081.40   \n",
       "4     5  United Arab Emirates  $498.25  $592.31  $1,073.30       $1,026.68   \n",
       "\n",
       "       PS4 Xbox one iPad mini Samsung tablet 40 inch smart TV Apple Watch  \\\n",
       "0  $315.83  $418.50   $242.90        $250.98          $383.60     $242.90   \n",
       "1  $317.86  $254.24   $380.47        $152.44          $406.93     $381.48   \n",
       "2  $299.83  $355.47   $232.87        $354.99          $324.87     $248.43   \n",
       "3  $274.25  $233.14   $237.34        $392.89          $364.30     $259.21   \n",
       "4  $324.72  $285.72   $259.71        $311.71          $467.68     $285.71   \n",
       "\n",
       "  Brand headphone hard drive 2TB Portable charger  Printer  \n",
       "0         $196.95         $89.03            $2.44   $52.36  \n",
       "1         $338.22        $114.27            $4.83   $30.03  \n",
       "2         $175.48        $116.16           $11.41  $108.69  \n",
       "3         $159.71         $87.12            $9.24   $57.13  \n",
       "4         $181.73         $84.49           $10.13   $95.93  "
      ]
     },
     "execution_count": 49,
     "metadata": {},
     "output_type": "execute_result"
    }
   ],
   "source": [
    "## df = pd.read_csv(\"TechnologyIndex.csv\", escapechar = \"$\")\n",
    "df = pd.read_csv(\"TechnologyIndex.csv\")\n",
    "print(df.shape)\n",
    "df.head()"
   ]
  },
  {
   "cell_type": "code",
   "execution_count": 54,
   "metadata": {
    "scrolled": true
   },
   "outputs": [
    {
     "name": "stdout",
     "output_type": "stream",
     "text": [
      "<class 'pandas.core.frame.DataFrame'>\n",
      "RangeIndex: 72 entries, 0 to 71\n",
      "Data columns (total 16 columns):\n",
      "Rank                72 non-null int64\n",
      "Country             72 non-null object\n",
      "iPhone              72 non-null float64\n",
      "Android             72 non-null float64\n",
      "MacBook             72 non-null float64\n",
      "Windows Powered     72 non-null float64\n",
      "PS4                 72 non-null float64\n",
      "Xbox one            72 non-null float64\n",
      "iPad mini           72 non-null float64\n",
      "Samsung tablet      72 non-null float64\n",
      "40 inch smart TV    72 non-null float64\n",
      "Apple Watch         72 non-null float64\n",
      "Brand headphone     72 non-null float64\n",
      "hard drive 2TB      72 non-null float64\n",
      "Portable charger    72 non-null float64\n",
      "Printer             72 non-null float64\n",
      "dtypes: float64(14), int64(1), object(1)\n",
      "memory usage: 9.1+ KB\n"
     ]
    }
   ],
   "source": [
    "df.info()"
   ]
  },
  {
   "cell_type": "markdown",
   "metadata": {},
   "source": [
    "**1. remove $ symbol from the entire data**"
   ]
  },
  {
   "cell_type": "code",
   "execution_count": 51,
   "metadata": {},
   "outputs": [],
   "source": [
    "df = df.replace(\"\\$\", \"\", regex=True)\n",
    "df = df.replace(\"\\,\", \"\", regex=True)\n",
    "df.iloc[:, 2 : ] = df.iloc[:, 2 : ].apply(pd.to_numeric)"
   ]
  },
  {
   "cell_type": "code",
   "execution_count": 52,
   "metadata": {},
   "outputs": [
    {
     "data": {
      "text/html": [
       "<div>\n",
       "<style scoped>\n",
       "    .dataframe tbody tr th:only-of-type {\n",
       "        vertical-align: middle;\n",
       "    }\n",
       "\n",
       "    .dataframe tbody tr th {\n",
       "        vertical-align: top;\n",
       "    }\n",
       "\n",
       "    .dataframe thead th {\n",
       "        text-align: right;\n",
       "    }\n",
       "</style>\n",
       "<table border=\"1\" class=\"dataframe\">\n",
       "  <thead>\n",
       "    <tr style=\"text-align: right;\">\n",
       "      <th></th>\n",
       "      <th>Rank</th>\n",
       "      <th>Country</th>\n",
       "      <th>iPhone</th>\n",
       "      <th>Android</th>\n",
       "      <th>MacBook</th>\n",
       "      <th>Windows Powered</th>\n",
       "      <th>PS4</th>\n",
       "      <th>Xbox one</th>\n",
       "      <th>iPad mini</th>\n",
       "      <th>Samsung tablet</th>\n",
       "      <th>40 inch smart TV</th>\n",
       "      <th>Apple Watch</th>\n",
       "      <th>Brand headphone</th>\n",
       "      <th>hard drive 2TB</th>\n",
       "      <th>Portable charger</th>\n",
       "      <th>Printer</th>\n",
       "    </tr>\n",
       "  </thead>\n",
       "  <tbody>\n",
       "    <tr>\n",
       "      <th>0</th>\n",
       "      <td>1</td>\n",
       "      <td>Kuwait</td>\n",
       "      <td>641.50</td>\n",
       "      <td>539.18</td>\n",
       "      <td>795.38</td>\n",
       "      <td>528.34</td>\n",
       "      <td>315.83</td>\n",
       "      <td>418.50</td>\n",
       "      <td>242.90</td>\n",
       "      <td>250.98</td>\n",
       "      <td>383.60</td>\n",
       "      <td>242.90</td>\n",
       "      <td>196.95</td>\n",
       "      <td>89.03</td>\n",
       "      <td>2.44</td>\n",
       "      <td>52.36</td>\n",
       "    </tr>\n",
       "    <tr>\n",
       "      <th>1</th>\n",
       "      <td>2</td>\n",
       "      <td>Saudi Arabia</td>\n",
       "      <td>513.86</td>\n",
       "      <td>699.61</td>\n",
       "      <td>1054.98</td>\n",
       "      <td>686.88</td>\n",
       "      <td>317.86</td>\n",
       "      <td>254.24</td>\n",
       "      <td>380.47</td>\n",
       "      <td>152.44</td>\n",
       "      <td>406.93</td>\n",
       "      <td>381.48</td>\n",
       "      <td>338.22</td>\n",
       "      <td>114.27</td>\n",
       "      <td>4.83</td>\n",
       "      <td>30.03</td>\n",
       "    </tr>\n",
       "    <tr>\n",
       "      <th>2</th>\n",
       "      <td>3</td>\n",
       "      <td>Malaysia</td>\n",
       "      <td>532.06</td>\n",
       "      <td>631.66</td>\n",
       "      <td>1010.31</td>\n",
       "      <td>1022.67</td>\n",
       "      <td>299.83</td>\n",
       "      <td>355.47</td>\n",
       "      <td>232.87</td>\n",
       "      <td>354.99</td>\n",
       "      <td>324.87</td>\n",
       "      <td>248.43</td>\n",
       "      <td>175.48</td>\n",
       "      <td>116.16</td>\n",
       "      <td>11.41</td>\n",
       "      <td>108.69</td>\n",
       "    </tr>\n",
       "    <tr>\n",
       "      <th>3</th>\n",
       "      <td>4</td>\n",
       "      <td>Canada</td>\n",
       "      <td>555.25</td>\n",
       "      <td>625.04</td>\n",
       "      <td>1118.10</td>\n",
       "      <td>1081.40</td>\n",
       "      <td>274.25</td>\n",
       "      <td>233.14</td>\n",
       "      <td>237.34</td>\n",
       "      <td>392.89</td>\n",
       "      <td>364.30</td>\n",
       "      <td>259.21</td>\n",
       "      <td>159.71</td>\n",
       "      <td>87.12</td>\n",
       "      <td>9.24</td>\n",
       "      <td>57.13</td>\n",
       "    </tr>\n",
       "    <tr>\n",
       "      <th>4</th>\n",
       "      <td>5</td>\n",
       "      <td>United Arab Emirates</td>\n",
       "      <td>498.25</td>\n",
       "      <td>592.31</td>\n",
       "      <td>1073.30</td>\n",
       "      <td>1026.68</td>\n",
       "      <td>324.72</td>\n",
       "      <td>285.72</td>\n",
       "      <td>259.71</td>\n",
       "      <td>311.71</td>\n",
       "      <td>467.68</td>\n",
       "      <td>285.71</td>\n",
       "      <td>181.73</td>\n",
       "      <td>84.49</td>\n",
       "      <td>10.13</td>\n",
       "      <td>95.93</td>\n",
       "    </tr>\n",
       "  </tbody>\n",
       "</table>\n",
       "</div>"
      ],
      "text/plain": [
       "   Rank               Country  iPhone  Android  MacBook  Windows Powered  \\\n",
       "0     1                Kuwait  641.50   539.18   795.38           528.34   \n",
       "1     2          Saudi Arabia  513.86   699.61  1054.98           686.88   \n",
       "2     3              Malaysia  532.06   631.66  1010.31          1022.67   \n",
       "3     4                Canada  555.25   625.04  1118.10          1081.40   \n",
       "4     5  United Arab Emirates  498.25   592.31  1073.30          1026.68   \n",
       "\n",
       "      PS4  Xbox one  iPad mini  Samsung tablet  40 inch smart TV  Apple Watch  \\\n",
       "0  315.83    418.50     242.90          250.98            383.60       242.90   \n",
       "1  317.86    254.24     380.47          152.44            406.93       381.48   \n",
       "2  299.83    355.47     232.87          354.99            324.87       248.43   \n",
       "3  274.25    233.14     237.34          392.89            364.30       259.21   \n",
       "4  324.72    285.72     259.71          311.71            467.68       285.71   \n",
       "\n",
       "   Brand headphone  hard drive 2TB  Portable charger  Printer  \n",
       "0           196.95           89.03              2.44    52.36  \n",
       "1           338.22          114.27              4.83    30.03  \n",
       "2           175.48          116.16             11.41   108.69  \n",
       "3           159.71           87.12              9.24    57.13  \n",
       "4           181.73           84.49             10.13    95.93  "
      ]
     },
     "execution_count": 52,
     "metadata": {},
     "output_type": "execute_result"
    }
   ],
   "source": [
    "df.head()"
   ]
  },
  {
   "cell_type": "code",
   "execution_count": 53,
   "metadata": {
    "scrolled": true
   },
   "outputs": [
    {
     "name": "stdout",
     "output_type": "stream",
     "text": [
      "<class 'pandas.core.frame.DataFrame'>\n",
      "RangeIndex: 72 entries, 0 to 71\n",
      "Data columns (total 16 columns):\n",
      "Rank                72 non-null int64\n",
      "Country             72 non-null object\n",
      "iPhone              72 non-null float64\n",
      "Android             72 non-null float64\n",
      "MacBook             72 non-null float64\n",
      "Windows Powered     72 non-null float64\n",
      "PS4                 72 non-null float64\n",
      "Xbox one            72 non-null float64\n",
      "iPad mini           72 non-null float64\n",
      "Samsung tablet      72 non-null float64\n",
      "40 inch smart TV    72 non-null float64\n",
      "Apple Watch         72 non-null float64\n",
      "Brand headphone     72 non-null float64\n",
      "hard drive 2TB      72 non-null float64\n",
      "Portable charger    72 non-null float64\n",
      "Printer             72 non-null float64\n",
      "dtypes: float64(14), int64(1), object(1)\n",
      "memory usage: 9.1+ KB\n"
     ]
    }
   ],
   "source": [
    "df.info()"
   ]
  },
  {
   "cell_type": "code",
   "execution_count": null,
   "metadata": {},
   "outputs": [],
   "source": []
  },
  {
   "cell_type": "markdown",
   "metadata": {},
   "source": [
    "**2. what is the trend followed in Apple series.**"
   ]
  },
  {
   "cell_type": "code",
   "execution_count": 8,
   "metadata": {},
   "outputs": [
    {
     "data": {
      "text/html": [
       "<div>\n",
       "<style scoped>\n",
       "    .dataframe tbody tr th:only-of-type {\n",
       "        vertical-align: middle;\n",
       "    }\n",
       "\n",
       "    .dataframe tbody tr th {\n",
       "        vertical-align: top;\n",
       "    }\n",
       "\n",
       "    .dataframe thead th {\n",
       "        text-align: right;\n",
       "    }\n",
       "</style>\n",
       "<table border=\"1\" class=\"dataframe\">\n",
       "  <thead>\n",
       "    <tr style=\"text-align: right;\">\n",
       "      <th></th>\n",
       "      <th>Rank</th>\n",
       "      <th>Country</th>\n",
       "      <th>iPhone</th>\n",
       "      <th>MacBook</th>\n",
       "      <th>iPad mini</th>\n",
       "      <th>Apple Watch</th>\n",
       "    </tr>\n",
       "  </thead>\n",
       "  <tbody>\n",
       "    <tr>\n",
       "      <th>0</th>\n",
       "      <td>1</td>\n",
       "      <td>Kuwait</td>\n",
       "      <td>641.50</td>\n",
       "      <td>795.38</td>\n",
       "      <td>242.90</td>\n",
       "      <td>242.90</td>\n",
       "    </tr>\n",
       "    <tr>\n",
       "      <th>1</th>\n",
       "      <td>2</td>\n",
       "      <td>Saudi Arabia</td>\n",
       "      <td>513.86</td>\n",
       "      <td>1054.98</td>\n",
       "      <td>380.47</td>\n",
       "      <td>381.48</td>\n",
       "    </tr>\n",
       "    <tr>\n",
       "      <th>2</th>\n",
       "      <td>3</td>\n",
       "      <td>Malaysia</td>\n",
       "      <td>532.06</td>\n",
       "      <td>1010.31</td>\n",
       "      <td>232.87</td>\n",
       "      <td>248.43</td>\n",
       "    </tr>\n",
       "    <tr>\n",
       "      <th>3</th>\n",
       "      <td>4</td>\n",
       "      <td>Canada</td>\n",
       "      <td>555.25</td>\n",
       "      <td>1118.10</td>\n",
       "      <td>237.34</td>\n",
       "      <td>259.21</td>\n",
       "    </tr>\n",
       "    <tr>\n",
       "      <th>4</th>\n",
       "      <td>5</td>\n",
       "      <td>United Arab Emirates</td>\n",
       "      <td>498.25</td>\n",
       "      <td>1073.30</td>\n",
       "      <td>259.71</td>\n",
       "      <td>285.71</td>\n",
       "    </tr>\n",
       "  </tbody>\n",
       "</table>\n",
       "</div>"
      ],
      "text/plain": [
       "   Rank               Country  iPhone  MacBook  iPad mini  Apple Watch\n",
       "0     1                Kuwait  641.50   795.38     242.90       242.90\n",
       "1     2          Saudi Arabia  513.86  1054.98     380.47       381.48\n",
       "2     3              Malaysia  532.06  1010.31     232.87       248.43\n",
       "3     4                Canada  555.25  1118.10     237.34       259.21\n",
       "4     5  United Arab Emirates  498.25  1073.30     259.71       285.71"
      ]
     },
     "execution_count": 8,
     "metadata": {},
     "output_type": "execute_result"
    }
   ],
   "source": [
    "df_apple = df[['Rank', 'Country', \"iPhone\", \"MacBook\", \"iPad mini\", \"Apple Watch\"]]\n",
    "df_apple.head()"
   ]
  },
  {
   "cell_type": "code",
   "execution_count": 9,
   "metadata": {},
   "outputs": [
    {
     "data": {
      "text/plain": [
       "<matplotlib.axes._subplots.AxesSubplot at 0x29cbcf18748>"
      ]
     },
     "execution_count": 9,
     "metadata": {},
     "output_type": "execute_result"
    },
    {
     "data": {
      "image/png": "[encoded data removed]",
      "text/plain": [
       "<Figure size 432x288 with 1 Axes>"
      ]
     },
     "metadata": {
      "needs_background": "light"
     },
     "output_type": "display_data"
    }
   ],
   "source": [
    "sns.distplot(df_apple['iPhone'], bins = 5 )"
   ]
  },
  {
   "cell_type": "code",
   "execution_count": 10,
   "metadata": {},
   "outputs": [
    {
     "data": {
      "text/plain": [
       "<matplotlib.axes._subplots.AxesSubplot at 0x29cbe234588>"
      ]
     },
     "execution_count": 10,
     "metadata": {},
     "output_type": "execute_result"
    },
    {
     "data": {
      "image/png": "[encoded data removed]",
      "text/plain": [
       "<Figure size 432x288 with 1 Axes>"
      ]
     },
     "metadata": {
      "needs_background": "light"
     },
     "output_type": "display_data"
    }
   ],
   "source": [
    "sns.boxplot(df_apple.iloc[:, 2 : ],orient=\"v\")"
   ]
  },
  {
   "cell_type": "code",
   "execution_count": 11,
   "metadata": {},
   "outputs": [
    {
     "name": "stdout",
     "output_type": "stream",
     "text": [
      "df['iPhone'].mean() :  2005.6131944444448\n",
      "df['MacBook'].mean() :  3839.1659722222225\n",
      "df['iPad mini'].mean() :  792.8737500000001\n",
      "df['Apple Watch'].mean() :  1038.7008333333333\n"
     ]
    }
   ],
   "source": [
    "print(\"df['iPhone'].mean() : \", df['iPhone'].mean())\n",
    "print(\"df['MacBook'].mean() : \", df['MacBook'].mean())\n",
    "print(\"df['iPad mini'].mean() : \", df['iPad mini'].mean())\n",
    "print(\"df['Apple Watch'].mean() : \", df['Apple Watch'].mean())"
   ]
  },
  {
   "cell_type": "code",
   "execution_count": 12,
   "metadata": {},
   "outputs": [
    {
     "data": {
      "text/html": [
       "<div>\n",
       "<style scoped>\n",
       "    .dataframe tbody tr th:only-of-type {\n",
       "        vertical-align: middle;\n",
       "    }\n",
       "\n",
       "    .dataframe tbody tr th {\n",
       "        vertical-align: top;\n",
       "    }\n",
       "\n",
       "    .dataframe thead th {\n",
       "        text-align: right;\n",
       "    }\n",
       "</style>\n",
       "<table border=\"1\" class=\"dataframe\">\n",
       "  <thead>\n",
       "    <tr style=\"text-align: right;\">\n",
       "      <th></th>\n",
       "      <th>Rank</th>\n",
       "      <th>iPhone</th>\n",
       "      <th>Android</th>\n",
       "      <th>MacBook</th>\n",
       "      <th>Windows Powered</th>\n",
       "      <th>PS4</th>\n",
       "      <th>Xbox one</th>\n",
       "      <th>iPad mini</th>\n",
       "      <th>Samsung tablet</th>\n",
       "      <th>40 inch smart TV</th>\n",
       "      <th>Apple Watch</th>\n",
       "      <th>Brand headphone</th>\n",
       "      <th>hard drive 2TB</th>\n",
       "      <th>Portable charger</th>\n",
       "      <th>Printer</th>\n",
       "    </tr>\n",
       "  </thead>\n",
       "  <tbody>\n",
       "    <tr>\n",
       "      <th>count</th>\n",
       "      <td>72.00000</td>\n",
       "      <td>72.000000</td>\n",
       "      <td>72.000000</td>\n",
       "      <td>72.000000</td>\n",
       "      <td>72.000000</td>\n",
       "      <td>72.000000</td>\n",
       "      <td>72.000000</td>\n",
       "      <td>72.000000</td>\n",
       "      <td>72.000000</td>\n",
       "      <td>72.000000</td>\n",
       "      <td>72.000000</td>\n",
       "      <td>72.000000</td>\n",
       "      <td>72.000000</td>\n",
       "      <td>72.000000</td>\n",
       "      <td>72.000000</td>\n",
       "    </tr>\n",
       "    <tr>\n",
       "      <th>mean</th>\n",
       "      <td>36.50000</td>\n",
       "      <td>2005.613194</td>\n",
       "      <td>1898.245278</td>\n",
       "      <td>3839.165972</td>\n",
       "      <td>1615.708750</td>\n",
       "      <td>1171.301250</td>\n",
       "      <td>886.033194</td>\n",
       "      <td>792.873750</td>\n",
       "      <td>982.850694</td>\n",
       "      <td>2184.839444</td>\n",
       "      <td>1038.700833</td>\n",
       "      <td>249.170139</td>\n",
       "      <td>327.591806</td>\n",
       "      <td>19.567500</td>\n",
       "      <td>182.176528</td>\n",
       "    </tr>\n",
       "    <tr>\n",
       "      <th>std</th>\n",
       "      <td>20.92845</td>\n",
       "      <td>11450.853517</td>\n",
       "      <td>9105.356053</td>\n",
       "      <td>20578.694304</td>\n",
       "      <td>4120.489869</td>\n",
       "      <td>6639.993492</td>\n",
       "      <td>4326.410675</td>\n",
       "      <td>3639.130039</td>\n",
       "      <td>5370.595247</td>\n",
       "      <td>14000.234066</td>\n",
       "      <td>5710.131297</td>\n",
       "      <td>106.966586</td>\n",
       "      <td>1680.709478</td>\n",
       "      <td>44.526065</td>\n",
       "      <td>774.249905</td>\n",
       "    </tr>\n",
       "    <tr>\n",
       "      <th>min</th>\n",
       "      <td>1.00000</td>\n",
       "      <td>401.940000</td>\n",
       "      <td>539.180000</td>\n",
       "      <td>795.380000</td>\n",
       "      <td>300.370000</td>\n",
       "      <td>246.890000</td>\n",
       "      <td>222.550000</td>\n",
       "      <td>224.200000</td>\n",
       "      <td>113.730000</td>\n",
       "      <td>253.340000</td>\n",
       "      <td>182.000000</td>\n",
       "      <td>140.310000</td>\n",
       "      <td>63.280000</td>\n",
       "      <td>2.140000</td>\n",
       "      <td>30.030000</td>\n",
       "    </tr>\n",
       "    <tr>\n",
       "      <th>25%</th>\n",
       "      <td>18.75000</td>\n",
       "      <td>568.405000</td>\n",
       "      <td>687.390000</td>\n",
       "      <td>1211.215000</td>\n",
       "      <td>919.307500</td>\n",
       "      <td>316.602500</td>\n",
       "      <td>291.625000</td>\n",
       "      <td>293.762500</td>\n",
       "      <td>268.675000</td>\n",
       "      <td>431.957500</td>\n",
       "      <td>306.072500</td>\n",
       "      <td>192.187500</td>\n",
       "      <td>101.860000</td>\n",
       "      <td>7.255000</td>\n",
       "      <td>61.895000</td>\n",
       "    </tr>\n",
       "    <tr>\n",
       "      <th>50%</th>\n",
       "      <td>36.50000</td>\n",
       "      <td>623.490000</td>\n",
       "      <td>798.415000</td>\n",
       "      <td>1406.530000</td>\n",
       "      <td>1138.195000</td>\n",
       "      <td>355.810000</td>\n",
       "      <td>345.700000</td>\n",
       "      <td>323.360000</td>\n",
       "      <td>327.190000</td>\n",
       "      <td>518.235000</td>\n",
       "      <td>346.105000</td>\n",
       "      <td>211.950000</td>\n",
       "      <td>120.135000</td>\n",
       "      <td>11.210000</td>\n",
       "      <td>86.960000</td>\n",
       "    </tr>\n",
       "    <tr>\n",
       "      <th>75%</th>\n",
       "      <td>54.25000</td>\n",
       "      <td>762.250000</td>\n",
       "      <td>881.647500</td>\n",
       "      <td>1574.442500</td>\n",
       "      <td>1382.845000</td>\n",
       "      <td>438.087500</td>\n",
       "      <td>445.690000</td>\n",
       "      <td>414.300000</td>\n",
       "      <td>397.107500</td>\n",
       "      <td>589.622500</td>\n",
       "      <td>397.310000</td>\n",
       "      <td>264.325000</td>\n",
       "      <td>144.560000</td>\n",
       "      <td>16.785000</td>\n",
       "      <td>111.615000</td>\n",
       "    </tr>\n",
       "    <tr>\n",
       "      <th>max</th>\n",
       "      <td>72.00000</td>\n",
       "      <td>97813.820000</td>\n",
       "      <td>78054.190000</td>\n",
       "      <td>176005.340000</td>\n",
       "      <td>35941.090000</td>\n",
       "      <td>56723.530000</td>\n",
       "      <td>37073.790000</td>\n",
       "      <td>31228.640000</td>\n",
       "      <td>45904.120000</td>\n",
       "      <td>119321.580000</td>\n",
       "      <td>48810.160000</td>\n",
       "      <td>733.680000</td>\n",
       "      <td>14386.040000</td>\n",
       "      <td>371.870000</td>\n",
       "      <td>6653.440000</td>\n",
       "    </tr>\n",
       "  </tbody>\n",
       "</table>\n",
       "</div>"
      ],
      "text/plain": [
       "           Rank        iPhone       Android        MacBook  Windows Powered  \\\n",
       "count  72.00000     72.000000     72.000000      72.000000        72.000000   \n",
       "mean   36.50000   2005.613194   1898.245278    3839.165972      1615.708750   \n",
       "std    20.92845  11450.853517   9105.356053   20578.694304      4120.489869   \n",
       "min     1.00000    401.940000    539.180000     795.380000       300.370000   \n",
       "25%    18.75000    568.405000    687.390000    1211.215000       919.307500   \n",
       "50%    36.50000    623.490000    798.415000    1406.530000      1138.195000   \n",
       "75%    54.25000    762.250000    881.647500    1574.442500      1382.845000   \n",
       "max    72.00000  97813.820000  78054.190000  176005.340000     35941.090000   \n",
       "\n",
       "                PS4      Xbox one     iPad mini  Samsung tablet  \\\n",
       "count     72.000000     72.000000     72.000000       72.000000   \n",
       "mean    1171.301250    886.033194    792.873750      982.850694   \n",
       "std     6639.993492   4326.410675   3639.130039     5370.595247   \n",
       "min      246.890000    222.550000    224.200000      113.730000   \n",
       "25%      316.602500    291.625000    293.762500      268.675000   \n",
       "50%      355.810000    345.700000    323.360000      327.190000   \n",
       "75%      438.087500    445.690000    414.300000      397.107500   \n",
       "max    56723.530000  37073.790000  31228.640000    45904.120000   \n",
       "\n",
       "       40 inch smart TV   Apple Watch  Brand headphone  hard drive 2TB  \\\n",
       "count         72.000000     72.000000        72.000000       72.000000   \n",
       "mean        2184.839444   1038.700833       249.170139      327.591806   \n",
       "std        14000.234066   5710.131297       106.966586     1680.709478   \n",
       "min          253.340000    182.000000       140.310000       63.280000   \n",
       "25%          431.957500    306.072500       192.187500      101.860000   \n",
       "50%          518.235000    346.105000       211.950000      120.135000   \n",
       "75%          589.622500    397.310000       264.325000      144.560000   \n",
       "max       119321.580000  48810.160000       733.680000    14386.040000   \n",
       "\n",
       "       Portable charger      Printer  \n",
       "count         72.000000    72.000000  \n",
       "mean          19.567500   182.176528  \n",
       "std           44.526065   774.249905  \n",
       "min            2.140000    30.030000  \n",
       "25%            7.255000    61.895000  \n",
       "50%           11.210000    86.960000  \n",
       "75%           16.785000   111.615000  \n",
       "max          371.870000  6653.440000  "
      ]
     },
     "execution_count": 12,
     "metadata": {},
     "output_type": "execute_result"
    }
   ],
   "source": [
    "df.describe()"
   ]
  },
  {
   "cell_type": "markdown",
   "metadata": {},
   "source": [
    "Trend :\n",
    "1. Average price of the product is much more (3 - 4 times) than sold in US.\n",
    "2. Earning from Macbook is equivalennt to earnings from iPhone, iPad mini and Apple Watch."
   ]
  },
  {
   "cell_type": "code",
   "execution_count": null,
   "metadata": {},
   "outputs": [],
   "source": []
  },
  {
   "cell_type": "code",
   "execution_count": null,
   "metadata": {},
   "outputs": [],
   "source": []
  },
  {
   "cell_type": "code",
   "execution_count": null,
   "metadata": {},
   "outputs": [],
   "source": []
  },
  {
   "cell_type": "markdown",
   "metadata": {},
   "source": [
    "**3. What device has the most unpredictable trend?**"
   ]
  },
  {
   "cell_type": "code",
   "execution_count": 13,
   "metadata": {},
   "outputs": [
    {
     "data": {
      "text/html": [
       "<div>\n",
       "<style scoped>\n",
       "    .dataframe tbody tr th:only-of-type {\n",
       "        vertical-align: middle;\n",
       "    }\n",
       "\n",
       "    .dataframe tbody tr th {\n",
       "        vertical-align: top;\n",
       "    }\n",
       "\n",
       "    .dataframe thead th {\n",
       "        text-align: right;\n",
       "    }\n",
       "</style>\n",
       "<table border=\"1\" class=\"dataframe\">\n",
       "  <thead>\n",
       "    <tr style=\"text-align: right;\">\n",
       "      <th></th>\n",
       "      <th>Rank</th>\n",
       "      <th>Country</th>\n",
       "      <th>iPhone</th>\n",
       "      <th>Android</th>\n",
       "      <th>MacBook</th>\n",
       "      <th>Windows Powered</th>\n",
       "      <th>PS4</th>\n",
       "      <th>Xbox one</th>\n",
       "      <th>iPad mini</th>\n",
       "      <th>Samsung tablet</th>\n",
       "      <th>40 inch smart TV</th>\n",
       "      <th>Apple Watch</th>\n",
       "      <th>Brand headphone</th>\n",
       "      <th>hard drive 2TB</th>\n",
       "      <th>Portable charger</th>\n",
       "      <th>Printer</th>\n",
       "    </tr>\n",
       "  </thead>\n",
       "  <tbody>\n",
       "    <tr>\n",
       "      <th>0</th>\n",
       "      <td>1</td>\n",
       "      <td>Kuwait</td>\n",
       "      <td>641.50</td>\n",
       "      <td>539.18</td>\n",
       "      <td>795.38</td>\n",
       "      <td>528.34</td>\n",
       "      <td>315.83</td>\n",
       "      <td>418.50</td>\n",
       "      <td>242.90</td>\n",
       "      <td>250.98</td>\n",
       "      <td>383.60</td>\n",
       "      <td>242.90</td>\n",
       "      <td>196.95</td>\n",
       "      <td>89.03</td>\n",
       "      <td>2.44</td>\n",
       "      <td>52.36</td>\n",
       "    </tr>\n",
       "    <tr>\n",
       "      <th>1</th>\n",
       "      <td>2</td>\n",
       "      <td>Saudi Arabia</td>\n",
       "      <td>513.86</td>\n",
       "      <td>699.61</td>\n",
       "      <td>1054.98</td>\n",
       "      <td>686.88</td>\n",
       "      <td>317.86</td>\n",
       "      <td>254.24</td>\n",
       "      <td>380.47</td>\n",
       "      <td>152.44</td>\n",
       "      <td>406.93</td>\n",
       "      <td>381.48</td>\n",
       "      <td>338.22</td>\n",
       "      <td>114.27</td>\n",
       "      <td>4.83</td>\n",
       "      <td>30.03</td>\n",
       "    </tr>\n",
       "    <tr>\n",
       "      <th>2</th>\n",
       "      <td>3</td>\n",
       "      <td>Malaysia</td>\n",
       "      <td>532.06</td>\n",
       "      <td>631.66</td>\n",
       "      <td>1010.31</td>\n",
       "      <td>1022.67</td>\n",
       "      <td>299.83</td>\n",
       "      <td>355.47</td>\n",
       "      <td>232.87</td>\n",
       "      <td>354.99</td>\n",
       "      <td>324.87</td>\n",
       "      <td>248.43</td>\n",
       "      <td>175.48</td>\n",
       "      <td>116.16</td>\n",
       "      <td>11.41</td>\n",
       "      <td>108.69</td>\n",
       "    </tr>\n",
       "    <tr>\n",
       "      <th>3</th>\n",
       "      <td>4</td>\n",
       "      <td>Canada</td>\n",
       "      <td>555.25</td>\n",
       "      <td>625.04</td>\n",
       "      <td>1118.10</td>\n",
       "      <td>1081.40</td>\n",
       "      <td>274.25</td>\n",
       "      <td>233.14</td>\n",
       "      <td>237.34</td>\n",
       "      <td>392.89</td>\n",
       "      <td>364.30</td>\n",
       "      <td>259.21</td>\n",
       "      <td>159.71</td>\n",
       "      <td>87.12</td>\n",
       "      <td>9.24</td>\n",
       "      <td>57.13</td>\n",
       "    </tr>\n",
       "    <tr>\n",
       "      <th>4</th>\n",
       "      <td>5</td>\n",
       "      <td>United Arab Emirates</td>\n",
       "      <td>498.25</td>\n",
       "      <td>592.31</td>\n",
       "      <td>1073.30</td>\n",
       "      <td>1026.68</td>\n",
       "      <td>324.72</td>\n",
       "      <td>285.72</td>\n",
       "      <td>259.71</td>\n",
       "      <td>311.71</td>\n",
       "      <td>467.68</td>\n",
       "      <td>285.71</td>\n",
       "      <td>181.73</td>\n",
       "      <td>84.49</td>\n",
       "      <td>10.13</td>\n",
       "      <td>95.93</td>\n",
       "    </tr>\n",
       "  </tbody>\n",
       "</table>\n",
       "</div>"
      ],
      "text/plain": [
       "   Rank               Country  iPhone  Android  MacBook  Windows Powered  \\\n",
       "0     1                Kuwait  641.50   539.18   795.38           528.34   \n",
       "1     2          Saudi Arabia  513.86   699.61  1054.98           686.88   \n",
       "2     3              Malaysia  532.06   631.66  1010.31          1022.67   \n",
       "3     4                Canada  555.25   625.04  1118.10          1081.40   \n",
       "4     5  United Arab Emirates  498.25   592.31  1073.30          1026.68   \n",
       "\n",
       "      PS4  Xbox one  iPad mini  Samsung tablet  40 inch smart TV  Apple Watch  \\\n",
       "0  315.83    418.50     242.90          250.98            383.60       242.90   \n",
       "1  317.86    254.24     380.47          152.44            406.93       381.48   \n",
       "2  299.83    355.47     232.87          354.99            324.87       248.43   \n",
       "3  274.25    233.14     237.34          392.89            364.30       259.21   \n",
       "4  324.72    285.72     259.71          311.71            467.68       285.71   \n",
       "\n",
       "   Brand headphone  hard drive 2TB  Portable charger  Printer  \n",
       "0           196.95           89.03              2.44    52.36  \n",
       "1           338.22          114.27              4.83    30.03  \n",
       "2           175.48          116.16             11.41   108.69  \n",
       "3           159.71           87.12              9.24    57.13  \n",
       "4           181.73           84.49             10.13    95.93  "
      ]
     },
     "execution_count": 13,
     "metadata": {},
     "output_type": "execute_result"
    }
   ],
   "source": [
    "df.head()"
   ]
  },
  {
   "cell_type": "code",
   "execution_count": 14,
   "metadata": {},
   "outputs": [
    {
     "data": {
      "text/plain": [
       "Index(['Rank', 'Country', 'iPhone', 'Android', 'MacBook', 'Windows Powered',\n",
       "       'PS4', 'Xbox one', 'iPad mini', 'Samsung tablet', '40 inch smart TV',\n",
       "       'Apple Watch', 'Brand headphone', 'hard drive 2TB', 'Portable charger',\n",
       "       'Printer'],\n",
       "      dtype='object')"
      ]
     },
     "execution_count": 14,
     "metadata": {},
     "output_type": "execute_result"
    }
   ],
   "source": [
    "df.columns"
   ]
  },
  {
   "cell_type": "code",
   "execution_count": 15,
   "metadata": {},
   "outputs": [
    {
     "data": {
      "text/html": [
       "<div>\n",
       "<style scoped>\n",
       "    .dataframe tbody tr th:only-of-type {\n",
       "        vertical-align: middle;\n",
       "    }\n",
       "\n",
       "    .dataframe tbody tr th {\n",
       "        vertical-align: top;\n",
       "    }\n",
       "\n",
       "    .dataframe thead th {\n",
       "        text-align: right;\n",
       "    }\n",
       "</style>\n",
       "<table border=\"1\" class=\"dataframe\">\n",
       "  <thead>\n",
       "    <tr style=\"text-align: right;\">\n",
       "      <th></th>\n",
       "      <th>Rank</th>\n",
       "      <th>iPhone</th>\n",
       "      <th>Android</th>\n",
       "      <th>MacBook</th>\n",
       "      <th>Windows Powered</th>\n",
       "      <th>PS4</th>\n",
       "      <th>Xbox one</th>\n",
       "      <th>iPad mini</th>\n",
       "      <th>Samsung tablet</th>\n",
       "      <th>40 inch smart TV</th>\n",
       "      <th>Apple Watch</th>\n",
       "      <th>Brand headphone</th>\n",
       "      <th>hard drive 2TB</th>\n",
       "      <th>Portable charger</th>\n",
       "      <th>Printer</th>\n",
       "    </tr>\n",
       "  </thead>\n",
       "  <tbody>\n",
       "    <tr>\n",
       "      <th>count</th>\n",
       "      <td>72.00000</td>\n",
       "      <td>72.000000</td>\n",
       "      <td>72.000000</td>\n",
       "      <td>72.000000</td>\n",
       "      <td>72.000000</td>\n",
       "      <td>72.000000</td>\n",
       "      <td>72.000000</td>\n",
       "      <td>72.000000</td>\n",
       "      <td>72.000000</td>\n",
       "      <td>72.000000</td>\n",
       "      <td>72.000000</td>\n",
       "      <td>72.000000</td>\n",
       "      <td>72.000000</td>\n",
       "      <td>72.000000</td>\n",
       "      <td>72.000000</td>\n",
       "    </tr>\n",
       "    <tr>\n",
       "      <th>mean</th>\n",
       "      <td>36.50000</td>\n",
       "      <td>2005.613194</td>\n",
       "      <td>1898.245278</td>\n",
       "      <td>3839.165972</td>\n",
       "      <td>1615.708750</td>\n",
       "      <td>1171.301250</td>\n",
       "      <td>886.033194</td>\n",
       "      <td>792.873750</td>\n",
       "      <td>982.850694</td>\n",
       "      <td>2184.839444</td>\n",
       "      <td>1038.700833</td>\n",
       "      <td>249.170139</td>\n",
       "      <td>327.591806</td>\n",
       "      <td>19.567500</td>\n",
       "      <td>182.176528</td>\n",
       "    </tr>\n",
       "    <tr>\n",
       "      <th>std</th>\n",
       "      <td>20.92845</td>\n",
       "      <td>11450.853517</td>\n",
       "      <td>9105.356053</td>\n",
       "      <td>20578.694304</td>\n",
       "      <td>4120.489869</td>\n",
       "      <td>6639.993492</td>\n",
       "      <td>4326.410675</td>\n",
       "      <td>3639.130039</td>\n",
       "      <td>5370.595247</td>\n",
       "      <td>14000.234066</td>\n",
       "      <td>5710.131297</td>\n",
       "      <td>106.966586</td>\n",
       "      <td>1680.709478</td>\n",
       "      <td>44.526065</td>\n",
       "      <td>774.249905</td>\n",
       "    </tr>\n",
       "    <tr>\n",
       "      <th>min</th>\n",
       "      <td>1.00000</td>\n",
       "      <td>401.940000</td>\n",
       "      <td>539.180000</td>\n",
       "      <td>795.380000</td>\n",
       "      <td>300.370000</td>\n",
       "      <td>246.890000</td>\n",
       "      <td>222.550000</td>\n",
       "      <td>224.200000</td>\n",
       "      <td>113.730000</td>\n",
       "      <td>253.340000</td>\n",
       "      <td>182.000000</td>\n",
       "      <td>140.310000</td>\n",
       "      <td>63.280000</td>\n",
       "      <td>2.140000</td>\n",
       "      <td>30.030000</td>\n",
       "    </tr>\n",
       "    <tr>\n",
       "      <th>25%</th>\n",
       "      <td>18.75000</td>\n",
       "      <td>568.405000</td>\n",
       "      <td>687.390000</td>\n",
       "      <td>1211.215000</td>\n",
       "      <td>919.307500</td>\n",
       "      <td>316.602500</td>\n",
       "      <td>291.625000</td>\n",
       "      <td>293.762500</td>\n",
       "      <td>268.675000</td>\n",
       "      <td>431.957500</td>\n",
       "      <td>306.072500</td>\n",
       "      <td>192.187500</td>\n",
       "      <td>101.860000</td>\n",
       "      <td>7.255000</td>\n",
       "      <td>61.895000</td>\n",
       "    </tr>\n",
       "    <tr>\n",
       "      <th>50%</th>\n",
       "      <td>36.50000</td>\n",
       "      <td>623.490000</td>\n",
       "      <td>798.415000</td>\n",
       "      <td>1406.530000</td>\n",
       "      <td>1138.195000</td>\n",
       "      <td>355.810000</td>\n",
       "      <td>345.700000</td>\n",
       "      <td>323.360000</td>\n",
       "      <td>327.190000</td>\n",
       "      <td>518.235000</td>\n",
       "      <td>346.105000</td>\n",
       "      <td>211.950000</td>\n",
       "      <td>120.135000</td>\n",
       "      <td>11.210000</td>\n",
       "      <td>86.960000</td>\n",
       "    </tr>\n",
       "    <tr>\n",
       "      <th>75%</th>\n",
       "      <td>54.25000</td>\n",
       "      <td>762.250000</td>\n",
       "      <td>881.647500</td>\n",
       "      <td>1574.442500</td>\n",
       "      <td>1382.845000</td>\n",
       "      <td>438.087500</td>\n",
       "      <td>445.690000</td>\n",
       "      <td>414.300000</td>\n",
       "      <td>397.107500</td>\n",
       "      <td>589.622500</td>\n",
       "      <td>397.310000</td>\n",
       "      <td>264.325000</td>\n",
       "      <td>144.560000</td>\n",
       "      <td>16.785000</td>\n",
       "      <td>111.615000</td>\n",
       "    </tr>\n",
       "    <tr>\n",
       "      <th>max</th>\n",
       "      <td>72.00000</td>\n",
       "      <td>97813.820000</td>\n",
       "      <td>78054.190000</td>\n",
       "      <td>176005.340000</td>\n",
       "      <td>35941.090000</td>\n",
       "      <td>56723.530000</td>\n",
       "      <td>37073.790000</td>\n",
       "      <td>31228.640000</td>\n",
       "      <td>45904.120000</td>\n",
       "      <td>119321.580000</td>\n",
       "      <td>48810.160000</td>\n",
       "      <td>733.680000</td>\n",
       "      <td>14386.040000</td>\n",
       "      <td>371.870000</td>\n",
       "      <td>6653.440000</td>\n",
       "    </tr>\n",
       "  </tbody>\n",
       "</table>\n",
       "</div>"
      ],
      "text/plain": [
       "           Rank        iPhone       Android        MacBook  Windows Powered  \\\n",
       "count  72.00000     72.000000     72.000000      72.000000        72.000000   \n",
       "mean   36.50000   2005.613194   1898.245278    3839.165972      1615.708750   \n",
       "std    20.92845  11450.853517   9105.356053   20578.694304      4120.489869   \n",
       "min     1.00000    401.940000    539.180000     795.380000       300.370000   \n",
       "25%    18.75000    568.405000    687.390000    1211.215000       919.307500   \n",
       "50%    36.50000    623.490000    798.415000    1406.530000      1138.195000   \n",
       "75%    54.25000    762.250000    881.647500    1574.442500      1382.845000   \n",
       "max    72.00000  97813.820000  78054.190000  176005.340000     35941.090000   \n",
       "\n",
       "                PS4      Xbox one     iPad mini  Samsung tablet  \\\n",
       "count     72.000000     72.000000     72.000000       72.000000   \n",
       "mean    1171.301250    886.033194    792.873750      982.850694   \n",
       "std     6639.993492   4326.410675   3639.130039     5370.595247   \n",
       "min      246.890000    222.550000    224.200000      113.730000   \n",
       "25%      316.602500    291.625000    293.762500      268.675000   \n",
       "50%      355.810000    345.700000    323.360000      327.190000   \n",
       "75%      438.087500    445.690000    414.300000      397.107500   \n",
       "max    56723.530000  37073.790000  31228.640000    45904.120000   \n",
       "\n",
       "       40 inch smart TV   Apple Watch  Brand headphone  hard drive 2TB  \\\n",
       "count         72.000000     72.000000        72.000000       72.000000   \n",
       "mean        2184.839444   1038.700833       249.170139      327.591806   \n",
       "std        14000.234066   5710.131297       106.966586     1680.709478   \n",
       "min          253.340000    182.000000       140.310000       63.280000   \n",
       "25%          431.957500    306.072500       192.187500      101.860000   \n",
       "50%          518.235000    346.105000       211.950000      120.135000   \n",
       "75%          589.622500    397.310000       264.325000      144.560000   \n",
       "max       119321.580000  48810.160000       733.680000    14386.040000   \n",
       "\n",
       "       Portable charger      Printer  \n",
       "count         72.000000    72.000000  \n",
       "mean          19.567500   182.176528  \n",
       "std           44.526065   774.249905  \n",
       "min            2.140000    30.030000  \n",
       "25%            7.255000    61.895000  \n",
       "50%           11.210000    86.960000  \n",
       "75%           16.785000   111.615000  \n",
       "max          371.870000  6653.440000  "
      ]
     },
     "execution_count": 15,
     "metadata": {},
     "output_type": "execute_result"
    }
   ],
   "source": [
    "df.describe()"
   ]
  },
  {
   "cell_type": "code",
   "execution_count": 16,
   "metadata": {},
   "outputs": [
    {
     "data": {
      "text/plain": [
       "<seaborn.axisgrid.PairGrid at 0x29cbe2b5fd0>"
      ]
     },
     "execution_count": 16,
     "metadata": {},
     "output_type": "execute_result"
    },
    {
     "data": {
      "image/png": "[encoded data removed]",
      "text/plain": [
       "<Figure size 2700x2700 with 240 Axes>"
      ]
     },
     "metadata": {
      "needs_background": "light"
     },
     "output_type": "display_data"
    }
   ],
   "source": [
    "sns.pairplot(df)"
   ]
  },
  {
   "cell_type": "markdown",
   "metadata": {},
   "source": [
    "Trend :\n",
    "1. It is being observed Portable Charger has nost unpredictable trend. Almost all the products are sold nearly average 4 - 8 times the minumum price.. But Portable Charger is sold at average 9.5 times the minumum price."
   ]
  },
  {
   "cell_type": "code",
   "execution_count": null,
   "metadata": {},
   "outputs": [],
   "source": []
  },
  {
   "cell_type": "code",
   "execution_count": null,
   "metadata": {},
   "outputs": [],
   "source": []
  },
  {
   "cell_type": "markdown",
   "metadata": {},
   "source": [
    "**4. Use dataframe slicing to return countries : \"Spain, Pakistan, Colombia, Germany\" with devices : \"Xbox one,Portable charger\".**"
   ]
  },
  {
   "cell_type": "code",
   "execution_count": 17,
   "metadata": {},
   "outputs": [
    {
     "data": {
      "text/html": [
       "<div>\n",
       "<style scoped>\n",
       "    .dataframe tbody tr th:only-of-type {\n",
       "        vertical-align: middle;\n",
       "    }\n",
       "\n",
       "    .dataframe tbody tr th {\n",
       "        vertical-align: top;\n",
       "    }\n",
       "\n",
       "    .dataframe thead th {\n",
       "        text-align: right;\n",
       "    }\n",
       "</style>\n",
       "<table border=\"1\" class=\"dataframe\">\n",
       "  <thead>\n",
       "    <tr style=\"text-align: right;\">\n",
       "      <th></th>\n",
       "      <th>Country</th>\n",
       "      <th>Xbox one</th>\n",
       "      <th>Portable charger</th>\n",
       "    </tr>\n",
       "  </thead>\n",
       "  <tbody>\n",
       "    <tr>\n",
       "      <th>12</th>\n",
       "      <td>Spain</td>\n",
       "      <td>447.16</td>\n",
       "      <td>3.71</td>\n",
       "    </tr>\n",
       "    <tr>\n",
       "      <th>13</th>\n",
       "      <td>Pakistan</td>\n",
       "      <td>315.28</td>\n",
       "      <td>7.12</td>\n",
       "    </tr>\n",
       "    <tr>\n",
       "      <th>14</th>\n",
       "      <td>Colombia</td>\n",
       "      <td>282.19</td>\n",
       "      <td>43.12</td>\n",
       "    </tr>\n",
       "    <tr>\n",
       "      <th>15</th>\n",
       "      <td>Germany</td>\n",
       "      <td>263.94</td>\n",
       "      <td>10.59</td>\n",
       "    </tr>\n",
       "  </tbody>\n",
       "</table>\n",
       "</div>"
      ],
      "text/plain": [
       "     Country  Xbox one  Portable charger\n",
       "12     Spain    447.16              3.71\n",
       "13  Pakistan    315.28              7.12\n",
       "14  Colombia    282.19             43.12\n",
       "15   Germany    263.94             10.59"
      ]
     },
     "execution_count": 17,
     "metadata": {},
     "output_type": "execute_result"
    }
   ],
   "source": [
    "df.loc[12 : 15, [\"Country\", \"Xbox one\", \"Portable charger\"]]"
   ]
  },
  {
   "cell_type": "markdown",
   "metadata": {},
   "source": [
    "**5. Country earning most and least, by selling them.**"
   ]
  },
  {
   "cell_type": "code",
   "execution_count": 55,
   "metadata": {},
   "outputs": [],
   "source": [
    "df['Total Minimum Selling Price'] = df.sum(axis = 1)"
   ]
  },
  {
   "cell_type": "code",
   "execution_count": 56,
   "metadata": {},
   "outputs": [
    {
     "data": {
      "text/plain": [
       "0    4700.89\n",
       "1    5338.10\n",
       "2    5427.90\n",
       "3    5458.12\n",
       "4    5503.07\n",
       "Name: Total Minimum Selling Price, dtype: float64"
      ]
     },
     "execution_count": 56,
     "metadata": {},
     "output_type": "execute_result"
    }
   ],
   "source": [
    "df['Total Minimum Selling Price'].head()"
   ]
  },
  {
   "cell_type": "code",
   "execution_count": 57,
   "metadata": {},
   "outputs": [
    {
     "name": "stdout",
     "output_type": "stream",
     "text": [
      "Country thar is earning least : \n"
     ]
    },
    {
     "data": {
      "text/plain": [
       "0    Kuwait\n",
       "Name: Country, dtype: object"
      ]
     },
     "execution_count": 57,
     "metadata": {},
     "output_type": "execute_result"
    }
   ],
   "source": [
    "print(\"Country thar is earning least : \")\n",
    "df[df['Total Minimum Selling Price'] == df['Total Minimum Selling Price'].min()]['Country']"
   ]
  },
  {
   "cell_type": "code",
   "execution_count": 58,
   "metadata": {},
   "outputs": [
    {
     "name": "stdout",
     "output_type": "stream",
     "text": [
      "Country thar is earning most : \n"
     ]
    },
    {
     "data": {
      "text/plain": [
       "71    Venezuela\n",
       "Name: Country, dtype: object"
      ]
     },
     "execution_count": 58,
     "metadata": {},
     "output_type": "execute_result"
    }
   ],
   "source": [
    "print(\"Country thar is earning most : \")\n",
    "df[df['Total Minimum Selling Price'] == df['Total Minimum Selling Price'].max()]['Country']"
   ]
  },
  {
   "cell_type": "code",
   "execution_count": null,
   "metadata": {},
   "outputs": [],
   "source": []
  },
  {
   "cell_type": "code",
   "execution_count": null,
   "metadata": {},
   "outputs": [],
   "source": []
  },
  {
   "cell_type": "markdown",
   "metadata": {},
   "source": [
    "**6. Trend followed between \"iPhone and Android\"**"
   ]
  },
  {
   "cell_type": "code",
   "execution_count": 22,
   "metadata": {},
   "outputs": [
    {
     "data": {
      "text/html": [
       "<div>\n",
       "<style scoped>\n",
       "    .dataframe tbody tr th:only-of-type {\n",
       "        vertical-align: middle;\n",
       "    }\n",
       "\n",
       "    .dataframe tbody tr th {\n",
       "        vertical-align: top;\n",
       "    }\n",
       "\n",
       "    .dataframe thead th {\n",
       "        text-align: right;\n",
       "    }\n",
       "</style>\n",
       "<table border=\"1\" class=\"dataframe\">\n",
       "  <thead>\n",
       "    <tr style=\"text-align: right;\">\n",
       "      <th></th>\n",
       "      <th>Rank</th>\n",
       "      <th>Country</th>\n",
       "      <th>iPhone</th>\n",
       "      <th>Android</th>\n",
       "    </tr>\n",
       "  </thead>\n",
       "  <tbody>\n",
       "    <tr>\n",
       "      <th>0</th>\n",
       "      <td>1</td>\n",
       "      <td>Kuwait</td>\n",
       "      <td>641.50</td>\n",
       "      <td>539.18</td>\n",
       "    </tr>\n",
       "    <tr>\n",
       "      <th>1</th>\n",
       "      <td>2</td>\n",
       "      <td>Saudi Arabia</td>\n",
       "      <td>513.86</td>\n",
       "      <td>699.61</td>\n",
       "    </tr>\n",
       "    <tr>\n",
       "      <th>2</th>\n",
       "      <td>3</td>\n",
       "      <td>Malaysia</td>\n",
       "      <td>532.06</td>\n",
       "      <td>631.66</td>\n",
       "    </tr>\n",
       "    <tr>\n",
       "      <th>3</th>\n",
       "      <td>4</td>\n",
       "      <td>Canada</td>\n",
       "      <td>555.25</td>\n",
       "      <td>625.04</td>\n",
       "    </tr>\n",
       "    <tr>\n",
       "      <th>4</th>\n",
       "      <td>5</td>\n",
       "      <td>United Arab Emirates</td>\n",
       "      <td>498.25</td>\n",
       "      <td>592.31</td>\n",
       "    </tr>\n",
       "  </tbody>\n",
       "</table>\n",
       "</div>"
      ],
      "text/plain": [
       "   Rank               Country  iPhone  Android\n",
       "0     1                Kuwait  641.50   539.18\n",
       "1     2          Saudi Arabia  513.86   699.61\n",
       "2     3              Malaysia  532.06   631.66\n",
       "3     4                Canada  555.25   625.04\n",
       "4     5  United Arab Emirates  498.25   592.31"
      ]
     },
     "execution_count": 22,
     "metadata": {},
     "output_type": "execute_result"
    }
   ],
   "source": [
    "df_6 = df[[\"Rank\", \"Country\", 'iPhone', \"Android\"]]\n",
    "df_6.head()"
   ]
  },
  {
   "cell_type": "code",
   "execution_count": 23,
   "metadata": {},
   "outputs": [
    {
     "name": "stdout",
     "output_type": "stream",
     "text": [
      "df_6['iPhone'].max() :  97813.82\n",
      "df_6['iPhone'].min() :  401.94\n"
     ]
    }
   ],
   "source": [
    "print(\"df_6['iPhone'].max() : \", df_6['iPhone'].max())\n",
    "print(\"df_6['iPhone'].min() : \", df_6['iPhone'].min())"
   ]
  },
  {
   "cell_type": "code",
   "execution_count": 24,
   "metadata": {},
   "outputs": [
    {
     "name": "stdout",
     "output_type": "stream",
     "text": [
      "df_6['Android'].max() :  78054.19\n",
      "df_6['Android'].min() :  539.18\n"
     ]
    }
   ],
   "source": [
    "print(\"df_6['Android'].max() : \", df_6['Android'].max())\n",
    "print(\"df_6['Android'].min() : \", df_6['Android'].min())"
   ]
  },
  {
   "cell_type": "code",
   "execution_count": 25,
   "metadata": {},
   "outputs": [
    {
     "data": {
      "text/plain": [
       "70    Angola\n",
       "Name: Country, dtype: object"
      ]
     },
     "execution_count": 25,
     "metadata": {},
     "output_type": "execute_result"
    }
   ],
   "source": [
    "df_6[df_6['iPhone'] == df_6['iPhone'].min()]['Country']"
   ]
  },
  {
   "cell_type": "code",
   "execution_count": 26,
   "metadata": {},
   "outputs": [
    {
     "data": {
      "text/plain": [
       "70    2641.01\n",
       "Name: Android, dtype: float64"
      ]
     },
     "execution_count": 26,
     "metadata": {},
     "output_type": "execute_result"
    }
   ],
   "source": [
    "df_6[df_6['Country'] == \"Angola\"]['Android']"
   ]
  },
  {
   "cell_type": "code",
   "execution_count": 27,
   "metadata": {},
   "outputs": [
    {
     "data": {
      "text/plain": [
       "0    Kuwait\n",
       "Name: Country, dtype: object"
      ]
     },
     "execution_count": 27,
     "metadata": {},
     "output_type": "execute_result"
    }
   ],
   "source": [
    "df_6[df_6['Android'] == df_6['Android'].min()]['Country']"
   ]
  },
  {
   "cell_type": "code",
   "execution_count": 28,
   "metadata": {
    "scrolled": true
   },
   "outputs": [
    {
     "data": {
      "text/plain": [
       "0    641.5\n",
       "Name: iPhone, dtype: float64"
      ]
     },
     "execution_count": 28,
     "metadata": {},
     "output_type": "execute_result"
    }
   ],
   "source": [
    "df_6[df_6['Country'] == \"Kuwait\"]['iPhone']"
   ]
  },
  {
   "cell_type": "code",
   "execution_count": 29,
   "metadata": {},
   "outputs": [
    {
     "data": {
      "text/plain": [
       "<matplotlib.axes._subplots.AxesSubplot at 0x29cc46e72e8>"
      ]
     },
     "execution_count": 29,
     "metadata": {},
     "output_type": "execute_result"
    },
    {
     "data": {
      "image/png": "[encoded data removed]",
      "text/plain": [
       "<Figure size 432x288 with 1 Axes>"
      ]
     },
     "metadata": {
      "needs_background": "light"
     },
     "output_type": "display_data"
    }
   ],
   "source": [
    "sns.distplot(df_6['Android'], kde = False, bins = 10)"
   ]
  },
  {
   "cell_type": "code",
   "execution_count": 30,
   "metadata": {},
   "outputs": [
    {
     "data": {
      "text/plain": [
       "<matplotlib.axes._subplots.AxesSubplot at 0x29cc6baed30>"
      ]
     },
     "execution_count": 30,
     "metadata": {},
     "output_type": "execute_result"
    },
    {
     "data": {
      "image/png": "[encoded data removed]",
      "text/plain": [
       "<Figure size 432x288 with 1 Axes>"
      ]
     },
     "metadata": {
      "needs_background": "light"
     },
     "output_type": "display_data"
    }
   ],
   "source": [
    "sns.distplot(df_6['iPhone'], kde = False, bins = 10)"
   ]
  },
  {
   "cell_type": "code",
   "execution_count": null,
   "metadata": {},
   "outputs": [],
   "source": []
  },
  {
   "cell_type": "markdown",
   "metadata": {},
   "source": [
    "Trend :\n",
    "1. Angola is selling iPhone at a price of 401 and Android at 2641\n",
    "2. Kuwait is selling both iPhone and Android at minimum price of 641 and 536 respectively\n",
    "3. Maximum iPhones are sold at price range 0 - 10000, in comparison  to Android whose range is 0 - 8000\n",
    "4. Fewer iPhones with high quality are sold at price range 90000 - 95000, in comparison  to Android whose range is 70000 - 78000"
   ]
  },
  {
   "cell_type": "code",
   "execution_count": null,
   "metadata": {},
   "outputs": [],
   "source": []
  },
  {
   "cell_type": "code",
   "execution_count": null,
   "metadata": {},
   "outputs": [],
   "source": []
  },
  {
   "cell_type": "code",
   "execution_count": null,
   "metadata": {},
   "outputs": [],
   "source": []
  },
  {
   "cell_type": "code",
   "execution_count": null,
   "metadata": {},
   "outputs": [],
   "source": []
  },
  {
   "cell_type": "code",
   "execution_count": null,
   "metadata": {},
   "outputs": [],
   "source": []
  },
  {
   "cell_type": "code",
   "execution_count": null,
   "metadata": {},
   "outputs": [],
   "source": []
  },
  {
   "cell_type": "code",
   "execution_count": null,
   "metadata": {},
   "outputs": [],
   "source": []
  }
 ],
 "metadata": {
  "kernelspec": {
   "display_name": "Python 3",
   "language": "python",
   "name": "python3"
  },
  "language_info": {
   "codemirror_mode": {
    "name": "ipython",
    "version": 3
   },
   "file_extension": ".py",
   "mimetype": "text/x-python",
   "name": "python",
   "nbconvert_exporter": "python",
   "pygments_lexer": "ipython3",
   "version": "3.7.3"
  }
 },
 "nbformat": 4,
 "nbformat_minor": 2
}
